{
 "cells": [
  {
   "cell_type": "markdown",
   "id": "1068f995",
   "metadata": {},
   "source": [
    "## 1. Write a Python program to find those numbers which are divisible by 7 and multiple of 5, between 1500 and 2700 (both included)."
   ]
  },
  {
   "cell_type": "code",
   "execution_count": 1,
   "id": "49b7047a",
   "metadata": {},
   "outputs": [
    {
     "name": "stdout",
     "output_type": "stream",
     "text": [
      "1505,1540,1575,1610,1645,1680,1715,1750,1785,1820,1855,1890,1925,1960,1995,2030,2065,2100,2135,2170,2205,2240,2275,2310,2345,2380,2415,2450,2485,2520,2555,2590,2625,2660,2695\n"
     ]
    }
   ],
   "source": [
    "n1 = []\n",
    "for i in range(1500, 2701):\n",
    "    if (i%7==0) and (i%5==0):\n",
    "        n1.append(str(i))\n",
    "print(','.join(n1))"
   ]
  },
  {
   "cell_type": "markdown",
   "id": "c19c06cd",
   "metadata": {},
   "source": [
    "## 2. Python program to add two numbers"
   ]
  },
  {
   "cell_type": "code",
   "execution_count": 2,
   "id": "9f56376a",
   "metadata": {},
   "outputs": [
    {
     "name": "stdout",
     "output_type": "stream",
     "text": [
      "Enter the first number: 45\n",
      "Enter the second number: 56\n",
      "Print the sum of 45 and 56 is 101\n"
     ]
    }
   ],
   "source": [
    "a = int(input('Enter the first number: '))\n",
    "b = int(input('Enter the second number: '))\n",
    "add = a + b \n",
    "print('Print the sum of {0} and {1} is {2}'.format(a, b, add))"
   ]
  },
  {
   "cell_type": "markdown",
   "id": "381f7344",
   "metadata": {},
   "source": [
    "## 3. Maximum of two numbers in Python"
   ]
  },
  {
   "cell_type": "code",
   "execution_count": 3,
   "id": "383507bb",
   "metadata": {},
   "outputs": [
    {
     "name": "stdout",
     "output_type": "stream",
     "text": [
      "Enter the first number: 23\n",
      "Enter the second number: 56\n",
      "56 is a maximum number\n"
     ]
    }
   ],
   "source": [
    "a = int(input(\"Enter the first number: \"))\n",
    "b = int(input(\"Enter the second number: \"))\n",
    "maximum = lambda a,b:a if a>b else b\n",
    "print(f'{maximum(a,b)} is a maximum number')"
   ]
  },
  {
   "cell_type": "markdown",
   "id": "637c5ac1",
   "metadata": {},
   "source": [
    "## 4. Python Program for factorial of a number"
   ]
  },
  {
   "cell_type": "code",
   "execution_count": 4,
   "id": "c695db45",
   "metadata": {},
   "outputs": [
    {
     "name": "stdout",
     "output_type": "stream",
     "text": [
      "Enter the number: 5\n",
      "Factorial of 5 is 120\n"
     ]
    }
   ],
   "source": [
    "def factorial(x):\n",
    "    if x == 1:\n",
    "        return 1\n",
    "    else:\n",
    "        return (x * factorial(x - 1))\n",
    "    \n",
    "number = int(input('Enter the number: '))\n",
    "result = factorial(number)\n",
    "print('Factorial of {0} is {1}'.format(number, result))"
   ]
  },
  {
   "cell_type": "markdown",
   "id": "28466430",
   "metadata": {},
   "source": [
    "## 5. Python Program for simple interest"
   ]
  },
  {
   "cell_type": "code",
   "execution_count": 5,
   "id": "2fb4ce68",
   "metadata": {},
   "outputs": [
    {
     "name": "stdout",
     "output_type": "stream",
     "text": [
      "Principal amt is: 67000\n",
      "Rate of interest is: 7\n",
      "Time period is: 5\n",
      "The simple interest is:  23450.0\n"
     ]
    }
   ],
   "source": [
    "def simple_interest(p, r, t):\n",
    "    si = p * r * t/100 \n",
    "    print('The simple interest is: ', si)\n",
    "\n",
    "p = int(input('Principal amt is: '))\n",
    "r = int(input('Rate of interest is: '))\n",
    "t = int(input('Time period is: '))\n",
    "simple_interest(p, r, t)"
   ]
  },
  {
   "cell_type": "markdown",
   "id": "0656913f",
   "metadata": {},
   "source": [
    "## 6. Python Program for compound interest"
   ]
  },
  {
   "cell_type": "code",
   "execution_count": 6,
   "id": "12d59ae8",
   "metadata": {},
   "outputs": [
    {
     "name": "stdout",
     "output_type": "stream",
     "text": [
      "Enter the principle amt: 54000\n",
      "Rate of interest is: 6\n",
      "Time period is: 4\n",
      "Compound Interest for 5 years is:  14173.755840000013\n"
     ]
    }
   ],
   "source": [
    "def compound_interest(principle, rate, time):\n",
    "    amount = principle * (1 + rate/ 100)**time\n",
    "    CI = amount - principle \n",
    "    print('Compound Interest for 5 years is: ', CI)\n",
    "    \n",
    "\n",
    "principle = int(input('Enter the principle amt: '))\n",
    "rate = int(input('Rate of interest is: '))\n",
    "time = int(input('Time period is: '))\n",
    "compound_interest(principle, rate, time)"
   ]
  },
  {
   "cell_type": "markdown",
   "id": "485c08d7",
   "metadata": {},
   "source": [
    "## 7. Python Program to check Armstrong Number"
   ]
  },
  {
   "cell_type": "code",
   "execution_count": 7,
   "id": "5fbbd08c",
   "metadata": {},
   "outputs": [
    {
     "name": "stdout",
     "output_type": "stream",
     "text": [
      "Enter the number: 1634\n",
      "1634 is an armstrong number\n"
     ]
    }
   ],
   "source": [
    "def Armstrong_number(num):\n",
    "    order = len(str(num))\n",
    "    sum1 = 0\n",
    "    temp = num\n",
    "    while temp > 0:\n",
    "        digit = temp % 10\n",
    "        sum1 += digit ** order\n",
    "        temp //= 10\n",
    "        \n",
    "    if num == sum1:\n",
    "        print(num,'is an armstrong number')\n",
    "    else:\n",
    "        print(num, 'is not an armstrong number')\n",
    "        \n",
    "num = int(input('Enter the number: '))\n",
    "Armstrong_number(num)"
   ]
  },
  {
   "cell_type": "markdown",
   "id": "75bd9d30",
   "metadata": {},
   "source": [
    "## 8. Python Program for Program to find area of a circle"
   ]
  },
  {
   "cell_type": "code",
   "execution_count": 8,
   "id": "9944ef1e",
   "metadata": {},
   "outputs": [
    {
     "name": "stdout",
     "output_type": "stream",
     "text": [
      "Enter the radius: 5\n",
      "Area of circle is:  79.25\n"
     ]
    }
   ],
   "source": [
    "def aoc(pi, r):\n",
    "    circle = pi*r**2\n",
    "    print('Area of circle is: ', circle)\n",
    "    \n",
    "pi = 3.17 \n",
    "r = int(input('Enter the radius: '))\n",
    "aoc(pi, r)"
   ]
  },
  {
   "cell_type": "markdown",
   "id": "8c584438",
   "metadata": {},
   "source": [
    "## 9. Python program to print all Prime numbers in an Interval"
   ]
  },
  {
   "cell_type": "code",
   "execution_count": 30,
   "id": "ae990c26",
   "metadata": {},
   "outputs": [
    {
     "name": "stdout",
     "output_type": "stream",
     "text": [
      "Enter the starting number: 2\n",
      "Enter the ending number: 1000\n",
      "The prime numbers in this range are:  [2, 3, 5, 7, 11, 13, 17, 19, 23, 29, 31, 37, 41, 43, 47, 53, 59, 61, 67, 71, 73, 79, 83, 89, 97, 101, 103, 107, 109, 113, 127, 131, 137, 139, 149, 151, 157, 163, 167, 173, 179, 181, 191, 193, 197, 199, 211, 223, 227, 229, 233, 239, 241, 251, 257, 263, 269, 271, 277, 281, 283, 293, 307, 311, 313, 317, 331, 337, 347, 349, 353, 359, 367, 373, 379, 383, 389, 397, 401, 409, 419, 421, 431, 433, 439, 443, 449, 457, 461, 463, 467, 479, 487, 491, 499, 503, 509, 521, 523, 541, 547, 557, 563, 569, 571, 577, 587, 593, 599, 601, 607, 613, 617, 619, 631, 641, 643, 647, 653, 659, 661, 673, 677, 683, 691, 701, 709, 719, 727, 733, 739, 743, 751, 757, 761, 769, 773, 787, 797, 809, 811, 821, 823, 827, 829, 839, 853, 857, 859, 863, 877, 881, 883, 887, 907, 911, 919, 929, 937, 941, 947, 953, 967, 971, 977, 983, 991, 997]\n"
     ]
    }
   ],
   "source": [
    "def prime(x, y):\n",
    "    prime_list = []\n",
    "    for i in range(x, y):\n",
    "        if i == 0 or i == 1:\n",
    "            continue\n",
    "        else:\n",
    "            for j in range(2, int(i/2)+1):\n",
    "                if i % j == 0:\n",
    "                    break\n",
    "            else:\n",
    "                prime_list.append(i)\n",
    "    return prime_list\n",
    " \n",
    "# Driver program\n",
    "starting_range = int(input('Enter the starting number: '))\n",
    "ending_range = int(input('Enter the ending number: '))\n",
    "lst = prime(starting_range, ending_range)\n",
    "if len(lst) == 0:\n",
    "    print(\"There are no prime numbers in this range\")\n",
    "else:\n",
    "    print(\"The prime numbers in this range are: \", lst)"
   ]
  },
  {
   "cell_type": "markdown",
   "id": "35b8a198",
   "metadata": {},
   "source": [
    "## 10. Python program to check whether a number is Prime or not"
   ]
  },
  {
   "cell_type": "code",
   "execution_count": 39,
   "id": "50936fac",
   "metadata": {},
   "outputs": [
    {
     "name": "stdout",
     "output_type": "stream",
     "text": [
      "Enter a number to check whether it is prime or not: 4\n",
      "4 is not a prime number\n",
      "None\n"
     ]
    }
   ],
   "source": [
    "def prime(num):\n",
    "    for i in range(2, int(num/2)+1):\n",
    "        if (num % i) == 0:\n",
    "            print(num, 'is not a prime number')\n",
    "            break\n",
    "            \n",
    "    else:\n",
    "        print(num, 'is a prime number')\n",
    "        \n",
    "num = int(input('Enter a number to check whether it is prime or not: '))\n",
    "result = prime(num)\n",
    "print(result)"
   ]
  },
  {
   "cell_type": "markdown",
   "id": "097e9812",
   "metadata": {},
   "source": []
  }
 ],
 "metadata": {
  "kernelspec": {
   "display_name": "Python 3 (ipykernel)",
   "language": "python",
   "name": "python3"
  },
  "language_info": {
   "codemirror_mode": {
    "name": "ipython",
    "version": 3
   },
   "file_extension": ".py",
   "mimetype": "text/x-python",
   "name": "python",
   "nbconvert_exporter": "python",
   "pygments_lexer": "ipython3",
   "version": "3.9.7"
  }
 },
 "nbformat": 4,
 "nbformat_minor": 5
}
